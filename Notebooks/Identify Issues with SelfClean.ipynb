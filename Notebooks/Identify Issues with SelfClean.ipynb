{
 "cells": [
  {
   "cell_type": "code",
   "execution_count": 1,
   "outputs": [],
   "source": [
    "from selfclean import SelfClean"
   ],
   "metadata": {
    "collapsed": false,
    "ExecuteTime": {
     "end_time": "2024-10-17T14:07:26.566116Z",
     "start_time": "2024-10-17T14:06:40.131372Z"
    }
   },
   "id": "39e80299a8d7b84b"
  },
  {
   "cell_type": "code",
   "execution_count": null,
   "outputs": [],
   "source": [
    "selfclean = SelfClean(\n",
    "    # displays the top-7 images from each error type\n",
    "    # per default this option is disabled\n",
    "    plot_top_N=10, \n",
    ")\n",
    "\n",
    "# run on image folder\n",
    "issues = selfclean.run_on_image_folder(\n",
    "    input_path=\"../Dataset\",\n",
    ")\n",
    "\n"
   ],
   "metadata": {
    "collapsed": false
   },
   "id": "initial_id"
  },
  {
   "cell_type": "code",
   "execution_count": null,
   "outputs": [],
   "source": [
    "# get the data quality issue rankings\n",
    "df_near_duplicates = issues.get_issues(\"near_duplicates\", return_as_df=True)\n",
    "df_irrelevants = issues.get_issues(\"irrelevants\", return_as_df=True)\n",
    "df_label_errors = issues.get_issues(\"label_errors\", return_as_df=True)"
   ],
   "metadata": {
    "collapsed": false
   },
   "id": "59747debbd0ff03a"
  }
 ],
 "metadata": {
  "kernelspec": {
   "display_name": "Python 3",
   "language": "python",
   "name": "python3"
  },
  "language_info": {
   "codemirror_mode": {
    "name": "ipython",
    "version": 2
   },
   "file_extension": ".py",
   "mimetype": "text/x-python",
   "name": "python",
   "nbconvert_exporter": "python",
   "pygments_lexer": "ipython2",
   "version": "2.7.6"
  }
 },
 "nbformat": 4,
 "nbformat_minor": 5
}
