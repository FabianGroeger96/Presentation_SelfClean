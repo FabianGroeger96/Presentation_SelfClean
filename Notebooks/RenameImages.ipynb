{
 "cells": [
  {
   "cell_type": "code",
   "execution_count": 17,
   "id": "initial_id",
   "metadata": {
    "collapsed": true,
    "ExecuteTime": {
     "end_time": "2024-10-17T13:29:36.941820Z",
     "start_time": "2024-10-17T13:29:36.940914Z"
    }
   },
   "outputs": [],
   "source": [
    "from pathlib import Path\n",
    "import os"
   ]
  },
  {
   "cell_type": "code",
   "execution_count": 18,
   "outputs": [],
   "source": [
    "base_path = Path(\"../Dataset\")\n",
    "horw_path = base_path / \"Horw\"\n",
    "rotkreuz_path = base_path / \"Rotkreuz\""
   ],
   "metadata": {
    "collapsed": false,
    "ExecuteTime": {
     "end_time": "2024-10-17T13:29:37.442400Z",
     "start_time": "2024-10-17T13:29:37.438618Z"
    }
   },
   "id": "6d8fe7f3e041e38e"
  },
  {
   "cell_type": "code",
   "execution_count": 19,
   "outputs": [
    {
     "name": "stdout",
     "output_type": "stream",
     "text": [
      "Number of images in Horw: 100\n",
      "Number of images in Rotkreuz: 91\n"
     ]
    }
   ],
   "source": [
    "def count_images(folder_path):\n",
    "    return len(list(folder_path.glob('*.JPG')))\n",
    "\n",
    "print(f\"Number of images in Horw: {count_images(horw_path)}\")\n",
    "print(f\"Number of images in Rotkreuz: {count_images(rotkreuz_path)}\")"
   ],
   "metadata": {
    "collapsed": false,
    "ExecuteTime": {
     "end_time": "2024-10-17T13:29:38.190967Z",
     "start_time": "2024-10-17T13:29:38.184937Z"
    }
   },
   "id": "4fbe1b4e1bdf59a0"
  },
  {
   "cell_type": "markdown",
   "source": [
    "# Rename images"
   ],
   "metadata": {
    "collapsed": false
   },
   "id": "2d3c02894fd02cc3"
  },
  {
   "cell_type": "code",
   "execution_count": 20,
   "outputs": [],
   "source": [
    "def rename_images(folder_path, prefix):\n",
    "    for img_path in folder_path.glob('IMG_*.JPG'):\n",
    "        new_name = img_path.name.replace('IMG_', f'{prefix}_')\n",
    "        img_path.rename(folder_path / new_name)\n",
    "\n",
    "rename_images(horw_path, 'Horw')\n",
    "rename_images(rotkreuz_path, 'Rotkreuz')"
   ],
   "metadata": {
    "collapsed": false,
    "ExecuteTime": {
     "end_time": "2024-10-17T13:29:45.491178Z",
     "start_time": "2024-10-17T13:29:45.485028Z"
    }
   },
   "id": "d91813fba69d9ab"
  },
  {
   "cell_type": "code",
   "execution_count": null,
   "outputs": [],
   "source": [],
   "metadata": {
    "collapsed": false
   },
   "id": "c743c13fc5154489"
  }
 ],
 "metadata": {
  "kernelspec": {
   "display_name": "Python 3",
   "language": "python",
   "name": "python3"
  },
  "language_info": {
   "codemirror_mode": {
    "name": "ipython",
    "version": 2
   },
   "file_extension": ".py",
   "mimetype": "text/x-python",
   "name": "python",
   "nbconvert_exporter": "python",
   "pygments_lexer": "ipython2",
   "version": "2.7.6"
  }
 },
 "nbformat": 4,
 "nbformat_minor": 5
}
