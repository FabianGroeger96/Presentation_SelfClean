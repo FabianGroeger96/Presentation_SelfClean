{
 "cells": [
  {
   "cell_type": "code",
   "execution_count": 17,
   "id": "initial_id",
   "metadata": {
    "ExecuteTime": {
     "end_time": "2024-10-17T13:29:36.941820Z",
     "start_time": "2024-10-17T13:29:36.940914Z"
    },
    "collapsed": true,
    "jupyter": {
     "outputs_hidden": true
    }
   },
   "outputs": [],
   "source": [
    "from pathlib import Path\n",
    "import os"
   ]
  },
  {
   "cell_type": "code",
   "execution_count": 18,
   "id": "6d8fe7f3e041e38e",
   "metadata": {
    "ExecuteTime": {
     "end_time": "2024-10-17T13:29:37.442400Z",
     "start_time": "2024-10-17T13:29:37.438618Z"
    },
    "collapsed": false,
    "jupyter": {
     "outputs_hidden": false
    }
   },
   "outputs": [],
   "source": [
    "base_path = Path(\"../Dataset\")\n",
    "horw_path = base_path / \"Horw\"\n",
    "rotkreuz_path = base_path / \"Rotkreuz\""
   ]
  },
  {
   "cell_type": "code",
   "execution_count": 22,
   "id": "4fbe1b4e1bdf59a0",
   "metadata": {
    "ExecuteTime": {
     "end_time": "2024-10-17T13:59:56.786948Z",
     "start_time": "2024-10-17T13:59:56.778972Z"
    },
    "collapsed": false,
    "jupyter": {
     "outputs_hidden": false
    }
   },
   "outputs": [
    {
     "name": "stdout",
     "output_type": "stream",
     "text": [
      "Number of images in Horw: 99\n",
      "Number of images in Rotkreuz: 92\n"
     ]
    }
   ],
   "source": [
    "def count_images(folder_path):\n",
    "    return len(list(folder_path.glob('*.JPG')))\n",
    "\n",
    "print(f\"Number of images in Horw: {count_images(horw_path)}\")\n",
    "print(f\"Number of images in Rotkreuz: {count_images(rotkreuz_path)}\")"
   ]
  },
  {
   "cell_type": "markdown",
   "id": "2d3c02894fd02cc3",
   "metadata": {
    "collapsed": false,
    "jupyter": {
     "outputs_hidden": false
    }
   },
   "source": [
    "# Rename images"
   ]
  },
  {
   "cell_type": "code",
   "execution_count": 20,
   "id": "d91813fba69d9ab",
   "metadata": {
    "ExecuteTime": {
     "end_time": "2024-10-17T13:29:45.491178Z",
     "start_time": "2024-10-17T13:29:45.485028Z"
    },
    "collapsed": false,
    "jupyter": {
     "outputs_hidden": false
    }
   },
   "outputs": [],
   "source": [
    "def rename_images(folder_path, prefix):\n",
    "    for img_path in folder_path.glob('IMG_*.JPG'):\n",
    "        new_name = img_path.name.replace('IMG_', f'{prefix}_')\n",
    "        img_path.rename(folder_path / new_name)\n",
    "\n",
    "rename_images(horw_path, 'Horw')\n",
    "rename_images(rotkreuz_path, 'Rotkreuz')"
   ]
  },
  {
   "cell_type": "code",
   "execution_count": null,
   "id": "c743c13fc5154489",
   "metadata": {
    "collapsed": false,
    "jupyter": {
     "outputs_hidden": false
    }
   },
   "outputs": [],
   "source": [
    "# "
   ]
  },
  {
   "cell_type": "markdown",
   "id": "9cb7525041aaaf05",
   "metadata": {
    "collapsed": false,
    "jupyter": {
     "outputs_hidden": false
    }
   },
   "source": [
    "# Move one Images from Horw to Rotkreuz"
   ]
  },
  {
   "cell_type": "code",
   "execution_count": 21,
   "id": "4162edd20fa3c95c",
   "metadata": {
    "ExecuteTime": {
     "end_time": "2024-10-17T13:37:19.965122Z",
     "start_time": "2024-10-17T13:37:19.952643Z"
    },
    "collapsed": false,
    "jupyter": {
     "outputs_hidden": false
    }
   },
   "outputs": [
    {
     "data": {
      "text/plain": [
       "PosixPath('../Dataset/Rotkreuz/Horw_2439.JPG')"
      ]
     },
     "execution_count": 21,
     "metadata": {},
     "output_type": "execute_result"
    }
   ],
   "source": [
    "import shutil\n",
    "\n",
    "image_to_move = horw_path / \"Horw_2439.JPG\"\n",
    "shutil.move(image_to_move, rotkreuz_path / image_to_move.name)"
   ]
  },
  {
   "cell_type": "code",
   "execution_count": null,
   "id": "8e0c18ff1a225609",
   "metadata": {
    "collapsed": false,
    "jupyter": {
     "outputs_hidden": false
    }
   },
   "outputs": [],
   "source": [
    "# "
   ]
  }
 ],
 "metadata": {
  "kernelspec": {
   "display_name": "Python 3 (ipykernel)",
   "language": "python",
   "name": "python3"
  },
  "language_info": {
   "codemirror_mode": {
    "name": "ipython",
    "version": 3
   },
   "file_extension": ".py",
   "mimetype": "text/x-python",
   "name": "python",
   "nbconvert_exporter": "python",
   "pygments_lexer": "ipython3",
   "version": "3.11.9"
  }
 },
 "nbformat": 4,
 "nbformat_minor": 5
}
